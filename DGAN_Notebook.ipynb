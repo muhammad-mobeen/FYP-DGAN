{
  "nbformat": 4,
  "nbformat_minor": 0,
  "metadata": {
    "colab": {
      "provenance": [],
      "authorship_tag": "ABX9TyND3MJP1Lovoq3Zdtum/A6q",
      "include_colab_link": true
    },
    "kernelspec": {
      "name": "python3",
      "display_name": "Python 3"
    },
    "language_info": {
      "name": "python"
    }
  },
  "cells": [
    {
      "cell_type": "markdown",
      "metadata": {
        "id": "view-in-github",
        "colab_type": "text"
      },
      "source": [
        "<a href=\"https://colab.research.google.com/github/muhammad-mobeen/FYP-DGAN/blob/main/DGAN_Notebook.ipynb\" target=\"_parent\"><img src=\"https://colab.research.google.com/assets/colab-badge.svg\" alt=\"Open In Colab\"/></a>"
      ]
    },
    {
      "cell_type": "code",
      "execution_count": 1,
      "metadata": {
        "id": "0m9Ft1pc_Uo1"
      },
      "outputs": [],
      "source": [
        "%%capture\n",
        "!pip install torch numpy pandas matplotlib scikit-learn\n",
        "!pip install gretel-synthetics\n",
        "# !pip install git+https://github.com/gretelai/gretel-synthetics.git"
      ]
    },
    {
      "cell_type": "code",
      "source": [
        "import pandas as pd\n",
        "import numpy as np\n",
        "\n",
        "import matplotlib.pyplot as plt\n",
        "import matplotlib.dates as md\n",
        "\n",
        "import torch\n",
        "\n",
        "from gretel_synthetics.timeseries_dgan.dgan import DGAN\n",
        "from gretel_synthetics.timeseries_dgan.config import DGANConfig, OutputType"
      ],
      "metadata": {
        "id": "BlFNJRX_AE9c"
      },
      "execution_count": null,
      "outputs": []
    }
  ]
}