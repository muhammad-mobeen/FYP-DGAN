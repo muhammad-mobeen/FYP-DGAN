{
  "nbformat": 4,
  "nbformat_minor": 0,
  "metadata": {
    "colab": {
      "provenance": [],
      "gpuType": "T4",
      "authorship_tag": "ABX9TyM1cWSMVdPCmznMEWJyWJHR",
      "include_colab_link": true
    },
    "kernelspec": {
      "name": "python3",
      "display_name": "Python 3"
    },
    "language_info": {
      "name": "python"
    },
    "accelerator": "GPU"
  },
  "cells": [
    {
      "cell_type": "markdown",
      "metadata": {
        "id": "view-in-github",
        "colab_type": "text"
      },
      "source": [
        "<a href=\"https://colab.research.google.com/github/muhammad-mobeen/FYP-DGAN/blob/main/DGAN_Notebook.ipynb\" target=\"_parent\"><img src=\"https://colab.research.google.com/assets/colab-badge.svg\" alt=\"Open In Colab\"/></a>"
      ]
    },
    {
      "cell_type": "code",
      "execution_count": null,
      "metadata": {
        "id": "0m9Ft1pc_Uo1"
      },
      "outputs": [],
      "source": [
        "%%capture\n",
        "!pip install torch numpy pandas matplotlib scikit-learn\n",
        "!pip install gretel-synthetics\n",
        "# !pip install git+https://github.com/gretelai/gretel-synthetics.git"
      ]
    },
    {
      "cell_type": "code",
      "source": [
        "from sklearn.preprocessing import OrdinalEncoder\n",
        "\n",
        "# Sample data with ordinal categorical features\n",
        "data = [['low', 10],\n",
        "        ['medium', 20],\n",
        "        ['high', 30]]\n",
        "\n",
        "# Initialize the OrdinalEncoder\n",
        "ordinal_encoder = OrdinalEncoder()\n",
        "\n",
        "# Fit and transform the data\n",
        "data_encoded = ordinal_encoder.fit_transform(data)\n",
        "\n",
        "# Display the encoded data\n",
        "print(data_encoded)\n",
        "print(ordinal_encoder.categories_)\n"
      ],
      "metadata": {
        "colab": {
          "base_uri": "https://localhost:8080/"
        },
        "id": "nvk-k-mtE1MY",
        "outputId": "72230d5f-a9ab-4883-93f5-6edabd45a01e"
      },
      "execution_count": null,
      "outputs": [
        {
          "output_type": "stream",
          "name": "stdout",
          "text": [
            "[[1. 0.]\n",
            " [2. 1.]\n",
            " [0. 2.]]\n",
            "[array(['high', 'low', 'medium'], dtype=object), array([10, 20, 30], dtype=object)]\n"
          ]
        }
      ]
    },
    {
      "cell_type": "code",
      "source": [
        "from sklearn.preprocessing import OrdinalEncoder\n",
        "\n",
        "# Sample data with ordinal categorical features\n",
        "data = [['low', 10],\n",
        "        ['medium', 20],\n",
        "        ['high', 30]]\n",
        "\n",
        "# Specify the order of categories for the first feature\n",
        "categories = [['low', 'medium', 'high'], None]\n",
        "# categories = ['low', 'medium', 'high']\n",
        "\n",
        "# Initialize the OrdinalEncoder with specified categories\n",
        "ordinal_encoder = OrdinalEncoder(categories=categories)\n",
        "\n",
        "# Fit and transform the data\n",
        "data_encoded = ordinal_encoder.fit_transform(data)\n",
        "\n",
        "# Display the encoded data\n",
        "print(data_encoded)\n"
      ],
      "metadata": {
        "id": "gfSkw5F0E8iE"
      },
      "execution_count": null,
      "outputs": []
    },
    {
      "source": [
        "import numpy as np\n",
        "from sklearn.preprocessing import OrdinalEncoder\n",
        "\n",
        "# Sample data with ordinal categorical features\n",
        "data = [['low', 10],\n",
        "        ['medium', 20],\n",
        "        ['high', 30]]\n",
        "\n",
        "# Specify the order of categories for the first feature\n",
        "categories = [['low', 'medium', 'high'], None]\n",
        "\n",
        "# Initialize the OrdinalEncoder with specified categories\n",
        "ordinal_encoder = OrdinalEncoder(categories=categories)\n",
        "\n",
        "# Convert the list of strings to a 2D array\n",
        "data = np.array(data)\n",
        "\n",
        "# Fit and transform the data\n",
        "data_encoded = ordinal_encoder.fit_transform(data)\n",
        "\n",
        "# Display the encoded data\n",
        "print(data_encoded)"
      ],
      "cell_type": "code",
      "metadata": {
        "id": "yBTYgkxAGzz2"
      },
      "execution_count": null,
      "outputs": []
    },
    {
      "cell_type": "code",
      "source": [
        "from sklearn.preprocessing import OrdinalEncoder\n",
        "\n",
        "# Example data with ordinal categorical features\n",
        "data = [['low', 10],\n",
        "        ['medium', 20],\n",
        "        ['high', 30],\n",
        "        ['low', 15]]\n",
        "\n",
        "# Create an instance of OrdinalEncoder\n",
        "encoder = OrdinalEncoder(categories=[['low', 'medium', 'high'], ])\n",
        "\n",
        "# Fit and transform the data\n",
        "encoded_data = encoder.fit_transform(data)\n",
        "\n",
        "print(encoded_data)\n"
      ],
      "metadata": {
        "id": "P1JoO87EHL6d"
      },
      "execution_count": null,
      "outputs": []
    },
    {
      "cell_type": "code",
      "source": [
        "import pandas as pd\n",
        "import numpy as np\n",
        "\n",
        "import matplotlib.pyplot as plt\n",
        "import matplotlib.dates as md\n",
        "\n",
        "import torch\n",
        "\n",
        "from gretel_synthetics.timeseries_dgan.dgan import DGAN\n",
        "from gretel_synthetics.timeseries_dgan.config import DGANConfig, OutputType\n",
        "from gretel_synthetics.timeseries_dgan.structures import ProgressInfo"
      ],
      "metadata": {
        "id": "BlFNJRX_AE9c"
      },
      "execution_count": null,
      "outputs": []
    },
    {
      "cell_type": "code",
      "source": [
        "sensor_df = pd.read_csv(\"https://archive.ics.uci.edu/ml/machine-learning-databases/00374/energydata_complete.csv\")\n",
        "# sensor_df[\"datetime\"] = pd.to_datetime(sensor_df[\"date\"])"
      ],
      "metadata": {
        "id": "Qi2gpr08C6p2"
      },
      "execution_count": null,
      "outputs": []
    },
    {
      "cell_type": "code",
      "source": [
        "sensor_df.dtypes"
      ],
      "metadata": {
        "colab": {
          "base_uri": "https://localhost:8080/"
        },
        "id": "9QRxE6F0xq4P",
        "outputId": "282f7237-afc7-4f9e-f3c9-b6fea5e5f01f"
      },
      "execution_count": null,
      "outputs": [
        {
          "output_type": "execute_result",
          "data": {
            "text/plain": [
              "date            object\n",
              "Appliances       int64\n",
              "lights           int64\n",
              "T1             float64\n",
              "RH_1           float64\n",
              "T2             float64\n",
              "RH_2           float64\n",
              "T3             float64\n",
              "RH_3           float64\n",
              "T4             float64\n",
              "RH_4           float64\n",
              "T5             float64\n",
              "RH_5           float64\n",
              "T6             float64\n",
              "RH_6           float64\n",
              "T7             float64\n",
              "RH_7           float64\n",
              "T8             float64\n",
              "RH_8           float64\n",
              "T9             float64\n",
              "RH_9           float64\n",
              "T_out          float64\n",
              "Press_mm_hg    float64\n",
              "RH_out         float64\n",
              "Windspeed      float64\n",
              "Visibility     float64\n",
              "Tdewpoint      float64\n",
              "rv1            float64\n",
              "rv2            float64\n",
              "dtype: object"
            ]
          },
          "metadata": {},
          "execution_count": 58
        }
      ]
    },
    {
      "cell_type": "code",
      "source": [
        "data_df = pd.read_csv(\"btc.csv\")"
      ],
      "metadata": {
        "id": "-71S8oCBXQ5B"
      },
      "execution_count": null,
      "outputs": []
    },
    {
      "cell_type": "code",
      "source": [
        "data_df[\"Unnamed: 0\"] = data_df[\"Unnamed: 0\"].astype(\"object\")"
      ],
      "metadata": {
        "id": "WPBIyOvTth0H"
      },
      "execution_count": null,
      "outputs": []
    },
    {
      "cell_type": "code",
      "source": [
        "data_df[\"Unnamed: 0\"] = np.unique(np.asarray(data_df[\"Unnamed: 0\"]))"
      ],
      "metadata": {
        "id": "o3le9bn65wou"
      },
      "execution_count": null,
      "outputs": []
    },
    {
      "cell_type": "code",
      "source": [
        "counts"
      ],
      "metadata": {
        "colab": {
          "base_uri": "https://localhost:8080/"
        },
        "id": "nGKq2PzS5766",
        "outputId": "2bbd084a-f0e3-43be-91c1-22fd4ec12a3c"
      },
      "execution_count": null,
      "outputs": [
        {
          "output_type": "execute_result",
          "data": {
            "text/plain": [
              "array([1, 1, 1, ..., 1, 1, 1])"
            ]
          },
          "metadata": {},
          "execution_count": 69
        }
      ]
    },
    {
      "cell_type": "code",
      "source": [
        "unique_values"
      ],
      "metadata": {
        "colab": {
          "base_uri": "https://localhost:8080/"
        },
        "id": "2SsI2May56r5",
        "outputId": "9f2be78f-7d34-4048-9f74-71bd0f09b30d"
      },
      "execution_count": null,
      "outputs": [
        {
          "output_type": "execute_result",
          "data": {
            "text/plain": [
              "array([   0,    1,    2, ..., 2784, 2785, 2786])"
            ]
          },
          "metadata": {},
          "execution_count": 71
        }
      ]
    },
    {
      "cell_type": "code",
      "source": [
        "# features = data_df.drop(columns=\"Date\").to_numpy()\n",
        "features = data_df.drop(columns=\"Date\")\n",
        "features[\"datetime\"] = pd.to_datetime(data_df[\"Date\"])\n",
        "# features[\"datetime\"] = features['datetime'].apply(lambda x: x.timestamp())\n",
        "print(features.shape)"
      ],
      "metadata": {
        "colab": {
          "base_uri": "https://localhost:8080/"
        },
        "id": "GtZb0Z_4NcEs",
        "outputId": "764245ab-de66-4cd1-c820-9174a718e9aa"
      },
      "execution_count": null,
      "outputs": [
        {
          "output_type": "stream",
          "name": "stdout",
          "text": [
            "(2787, 7)\n"
          ]
        }
      ]
    },
    {
      "cell_type": "code",
      "source": [
        "data_df[\"Date\"] = data_df[\"Date\"].astype(\"string\")\n",
        "# data_df[\"Currency\"] = data_df[\"Currency\"].astype(\"string\")"
      ],
      "metadata": {
        "id": "KyY7-mxcJC_c"
      },
      "execution_count": null,
      "outputs": []
    },
    {
      "cell_type": "code",
      "source": [
        "pd.to_datetime(data_df[\"Date\"])"
      ],
      "metadata": {
        "id": "raPaIDq2-SIb"
      },
      "execution_count": null,
      "outputs": []
    },
    {
      "cell_type": "code",
      "source": [
        "pd.to_str"
      ],
      "metadata": {
        "id": "ip3RVBSh-Z_X"
      },
      "execution_count": null,
      "outputs": []
    },
    {
      "cell_type": "code",
      "source": [
        "features.shape"
      ],
      "metadata": {
        "colab": {
          "base_uri": "https://localhost:8080/"
        },
        "id": "oWgmQk2NOwb7",
        "outputId": "2199723f-ff65-4bac-eee4-03e25c8bf58b"
      },
      "execution_count": null,
      "outputs": [
        {
          "output_type": "execute_result",
          "data": {
            "text/plain": [
              "(2787, 7)"
            ]
          },
          "metadata": {},
          "execution_count": 32
        }
      ]
    },
    {
      "cell_type": "code",
      "source": [
        "data_df = features"
      ],
      "metadata": {
        "id": "SAmEuFN5QuUS"
      },
      "execution_count": null,
      "outputs": []
    },
    {
      "cell_type": "code",
      "source": [
        "features"
      ],
      "metadata": {
        "id": "2NGvxwFeOKHZ"
      },
      "execution_count": null,
      "outputs": []
    },
    {
      "cell_type": "code",
      "source": [
        "data_df.shape"
      ],
      "metadata": {
        "colab": {
          "base_uri": "https://localhost:8080/"
        },
        "id": "e78dOLJgccdB",
        "outputId": "31bb6581-21c0-4d6e-92aa-e0b4f477955a"
      },
      "execution_count": null,
      "outputs": [
        {
          "output_type": "execute_result",
          "data": {
            "text/plain": [
              "(2787, 7)"
            ]
          },
          "metadata": {},
          "execution_count": 39
        }
      ]
    },
    {
      "cell_type": "code",
      "source": [
        "data_df.dtypes"
      ],
      "metadata": {
        "colab": {
          "base_uri": "https://localhost:8080/"
        },
        "id": "oXGAL14WMVUg",
        "outputId": "d9d72904-30d5-4be2-9de6-2b13c3407da0"
      },
      "execution_count": null,
      "outputs": [
        {
          "output_type": "execute_result",
          "data": {
            "text/plain": [
              "Unnamed: 0               int64\n",
              "Currency                object\n",
              "Date                    object\n",
              "Closing Price (USD)    float64\n",
              "24h Open (USD)         float64\n",
              "24h High (USD)         float64\n",
              "24h Low (USD)          float64\n",
              "dtype: object"
            ]
          },
          "metadata": {},
          "execution_count": 19
        }
      ]
    },
    {
      "cell_type": "code",
      "source": [
        "data_df"
      ],
      "metadata": {
        "colab": {
          "base_uri": "https://localhost:8080/",
          "height": 423
        },
        "id": "xkWoYJEhswjm",
        "outputId": "bb8677d6-ff93-42e1-fd74-e82c5f02c8a0"
      },
      "execution_count": null,
      "outputs": [
        {
          "output_type": "execute_result",
          "data": {
            "text/plain": [
              "     Unnamed: 0 Currency        Date  Closing Price (USD)  24h Open (USD)  \\\n",
              "0             0      BTC  2014-03-14           124.654990      125.304660   \n",
              "1             1      BTC  2014-03-15           126.455000      124.654990   \n",
              "2             2      BTC  2014-03-16           109.584830      126.455000   \n",
              "3             3      BTC  2014-03-17           119.674660      109.584830   \n",
              "4             4      BTC  2014-03-18           122.338660      119.674660   \n",
              "...         ...      ...         ...                  ...             ...   \n",
              "2782       2782      BTC  2021-10-25         49765.132082    49597.778891   \n",
              "2783       2783      BTC  2021-10-26         50033.693137    49718.354353   \n",
              "2784       2784      BTC  2021-10-27         47886.625255    49927.035067   \n",
              "2785       2785      BTC  2021-10-28         45605.615754    46806.537852   \n",
              "2786       2786      BTC  2021-10-29         43145.471291    46440.336570   \n",
              "\n",
              "      24h High (USD)  24h Low (USD)  \n",
              "0         125.751660     123.563490  \n",
              "1         126.758500     124.633830  \n",
              "2         126.665660      84.328330  \n",
              "3         119.675000     108.058160  \n",
              "4         122.936330     119.005660  \n",
              "...              ...            ...  \n",
              "2782    51449.798576   46295.720180  \n",
              "2783    51579.312545   48945.346536  \n",
              "2784    50691.802950   47006.102292  \n",
              "2785    49671.414174   43869.638969  \n",
              "2786    46623.853437   42103.346430  \n",
              "\n",
              "[2787 rows x 7 columns]"
            ],
            "text/html": [
              "\n",
              "  <div id=\"df-0632b522-c329-420d-b658-1116097347a0\" class=\"colab-df-container\">\n",
              "    <div>\n",
              "<style scoped>\n",
              "    .dataframe tbody tr th:only-of-type {\n",
              "        vertical-align: middle;\n",
              "    }\n",
              "\n",
              "    .dataframe tbody tr th {\n",
              "        vertical-align: top;\n",
              "    }\n",
              "\n",
              "    .dataframe thead th {\n",
              "        text-align: right;\n",
              "    }\n",
              "</style>\n",
              "<table border=\"1\" class=\"dataframe\">\n",
              "  <thead>\n",
              "    <tr style=\"text-align: right;\">\n",
              "      <th></th>\n",
              "      <th>Unnamed: 0</th>\n",
              "      <th>Currency</th>\n",
              "      <th>Date</th>\n",
              "      <th>Closing Price (USD)</th>\n",
              "      <th>24h Open (USD)</th>\n",
              "      <th>24h High (USD)</th>\n",
              "      <th>24h Low (USD)</th>\n",
              "    </tr>\n",
              "  </thead>\n",
              "  <tbody>\n",
              "    <tr>\n",
              "      <th>0</th>\n",
              "      <td>0</td>\n",
              "      <td>BTC</td>\n",
              "      <td>2014-03-14</td>\n",
              "      <td>124.654990</td>\n",
              "      <td>125.304660</td>\n",
              "      <td>125.751660</td>\n",
              "      <td>123.563490</td>\n",
              "    </tr>\n",
              "    <tr>\n",
              "      <th>1</th>\n",
              "      <td>1</td>\n",
              "      <td>BTC</td>\n",
              "      <td>2014-03-15</td>\n",
              "      <td>126.455000</td>\n",
              "      <td>124.654990</td>\n",
              "      <td>126.758500</td>\n",
              "      <td>124.633830</td>\n",
              "    </tr>\n",
              "    <tr>\n",
              "      <th>2</th>\n",
              "      <td>2</td>\n",
              "      <td>BTC</td>\n",
              "      <td>2014-03-16</td>\n",
              "      <td>109.584830</td>\n",
              "      <td>126.455000</td>\n",
              "      <td>126.665660</td>\n",
              "      <td>84.328330</td>\n",
              "    </tr>\n",
              "    <tr>\n",
              "      <th>3</th>\n",
              "      <td>3</td>\n",
              "      <td>BTC</td>\n",
              "      <td>2014-03-17</td>\n",
              "      <td>119.674660</td>\n",
              "      <td>109.584830</td>\n",
              "      <td>119.675000</td>\n",
              "      <td>108.058160</td>\n",
              "    </tr>\n",
              "    <tr>\n",
              "      <th>4</th>\n",
              "      <td>4</td>\n",
              "      <td>BTC</td>\n",
              "      <td>2014-03-18</td>\n",
              "      <td>122.338660</td>\n",
              "      <td>119.674660</td>\n",
              "      <td>122.936330</td>\n",
              "      <td>119.005660</td>\n",
              "    </tr>\n",
              "    <tr>\n",
              "      <th>...</th>\n",
              "      <td>...</td>\n",
              "      <td>...</td>\n",
              "      <td>...</td>\n",
              "      <td>...</td>\n",
              "      <td>...</td>\n",
              "      <td>...</td>\n",
              "      <td>...</td>\n",
              "    </tr>\n",
              "    <tr>\n",
              "      <th>2782</th>\n",
              "      <td>2782</td>\n",
              "      <td>BTC</td>\n",
              "      <td>2021-10-25</td>\n",
              "      <td>49765.132082</td>\n",
              "      <td>49597.778891</td>\n",
              "      <td>51449.798576</td>\n",
              "      <td>46295.720180</td>\n",
              "    </tr>\n",
              "    <tr>\n",
              "      <th>2783</th>\n",
              "      <td>2783</td>\n",
              "      <td>BTC</td>\n",
              "      <td>2021-10-26</td>\n",
              "      <td>50033.693137</td>\n",
              "      <td>49718.354353</td>\n",
              "      <td>51579.312545</td>\n",
              "      <td>48945.346536</td>\n",
              "    </tr>\n",
              "    <tr>\n",
              "      <th>2784</th>\n",
              "      <td>2784</td>\n",
              "      <td>BTC</td>\n",
              "      <td>2021-10-27</td>\n",
              "      <td>47886.625255</td>\n",
              "      <td>49927.035067</td>\n",
              "      <td>50691.802950</td>\n",
              "      <td>47006.102292</td>\n",
              "    </tr>\n",
              "    <tr>\n",
              "      <th>2785</th>\n",
              "      <td>2785</td>\n",
              "      <td>BTC</td>\n",
              "      <td>2021-10-28</td>\n",
              "      <td>45605.615754</td>\n",
              "      <td>46806.537852</td>\n",
              "      <td>49671.414174</td>\n",
              "      <td>43869.638969</td>\n",
              "    </tr>\n",
              "    <tr>\n",
              "      <th>2786</th>\n",
              "      <td>2786</td>\n",
              "      <td>BTC</td>\n",
              "      <td>2021-10-29</td>\n",
              "      <td>43145.471291</td>\n",
              "      <td>46440.336570</td>\n",
              "      <td>46623.853437</td>\n",
              "      <td>42103.346430</td>\n",
              "    </tr>\n",
              "  </tbody>\n",
              "</table>\n",
              "<p>2787 rows × 7 columns</p>\n",
              "</div>\n",
              "    <div class=\"colab-df-buttons\">\n",
              "\n",
              "  <div class=\"colab-df-container\">\n",
              "    <button class=\"colab-df-convert\" onclick=\"convertToInteractive('df-0632b522-c329-420d-b658-1116097347a0')\"\n",
              "            title=\"Convert this dataframe to an interactive table.\"\n",
              "            style=\"display:none;\">\n",
              "\n",
              "  <svg xmlns=\"http://www.w3.org/2000/svg\" height=\"24px\" viewBox=\"0 -960 960 960\">\n",
              "    <path d=\"M120-120v-720h720v720H120Zm60-500h600v-160H180v160Zm220 220h160v-160H400v160Zm0 220h160v-160H400v160ZM180-400h160v-160H180v160Zm440 0h160v-160H620v160ZM180-180h160v-160H180v160Zm440 0h160v-160H620v160Z\"/>\n",
              "  </svg>\n",
              "    </button>\n",
              "\n",
              "  <style>\n",
              "    .colab-df-container {\n",
              "      display:flex;\n",
              "      gap: 12px;\n",
              "    }\n",
              "\n",
              "    .colab-df-convert {\n",
              "      background-color: #E8F0FE;\n",
              "      border: none;\n",
              "      border-radius: 50%;\n",
              "      cursor: pointer;\n",
              "      display: none;\n",
              "      fill: #1967D2;\n",
              "      height: 32px;\n",
              "      padding: 0 0 0 0;\n",
              "      width: 32px;\n",
              "    }\n",
              "\n",
              "    .colab-df-convert:hover {\n",
              "      background-color: #E2EBFA;\n",
              "      box-shadow: 0px 1px 2px rgba(60, 64, 67, 0.3), 0px 1px 3px 1px rgba(60, 64, 67, 0.15);\n",
              "      fill: #174EA6;\n",
              "    }\n",
              "\n",
              "    .colab-df-buttons div {\n",
              "      margin-bottom: 4px;\n",
              "    }\n",
              "\n",
              "    [theme=dark] .colab-df-convert {\n",
              "      background-color: #3B4455;\n",
              "      fill: #D2E3FC;\n",
              "    }\n",
              "\n",
              "    [theme=dark] .colab-df-convert:hover {\n",
              "      background-color: #434B5C;\n",
              "      box-shadow: 0px 1px 3px 1px rgba(0, 0, 0, 0.15);\n",
              "      filter: drop-shadow(0px 1px 2px rgba(0, 0, 0, 0.3));\n",
              "      fill: #FFFFFF;\n",
              "    }\n",
              "  </style>\n",
              "\n",
              "    <script>\n",
              "      const buttonEl =\n",
              "        document.querySelector('#df-0632b522-c329-420d-b658-1116097347a0 button.colab-df-convert');\n",
              "      buttonEl.style.display =\n",
              "        google.colab.kernel.accessAllowed ? 'block' : 'none';\n",
              "\n",
              "      async function convertToInteractive(key) {\n",
              "        const element = document.querySelector('#df-0632b522-c329-420d-b658-1116097347a0');\n",
              "        const dataTable =\n",
              "          await google.colab.kernel.invokeFunction('convertToInteractive',\n",
              "                                                    [key], {});\n",
              "        if (!dataTable) return;\n",
              "\n",
              "        const docLinkHtml = 'Like what you see? Visit the ' +\n",
              "          '<a target=\"_blank\" href=https://colab.research.google.com/notebooks/data_table.ipynb>data table notebook</a>'\n",
              "          + ' to learn more about interactive tables.';\n",
              "        element.innerHTML = '';\n",
              "        dataTable['output_type'] = 'display_data';\n",
              "        await google.colab.output.renderOutput(dataTable, element);\n",
              "        const docLink = document.createElement('div');\n",
              "        docLink.innerHTML = docLinkHtml;\n",
              "        element.appendChild(docLink);\n",
              "      }\n",
              "    </script>\n",
              "  </div>\n",
              "\n",
              "\n",
              "<div id=\"df-b407e541-2839-4e59-9dad-a976e198f8bc\">\n",
              "  <button class=\"colab-df-quickchart\" onclick=\"quickchart('df-b407e541-2839-4e59-9dad-a976e198f8bc')\"\n",
              "            title=\"Suggest charts\"\n",
              "            style=\"display:none;\">\n",
              "\n",
              "<svg xmlns=\"http://www.w3.org/2000/svg\" height=\"24px\"viewBox=\"0 0 24 24\"\n",
              "     width=\"24px\">\n",
              "    <g>\n",
              "        <path d=\"M19 3H5c-1.1 0-2 .9-2 2v14c0 1.1.9 2 2 2h14c1.1 0 2-.9 2-2V5c0-1.1-.9-2-2-2zM9 17H7v-7h2v7zm4 0h-2V7h2v10zm4 0h-2v-4h2v4z\"/>\n",
              "    </g>\n",
              "</svg>\n",
              "  </button>\n",
              "\n",
              "<style>\n",
              "  .colab-df-quickchart {\n",
              "      --bg-color: #E8F0FE;\n",
              "      --fill-color: #1967D2;\n",
              "      --hover-bg-color: #E2EBFA;\n",
              "      --hover-fill-color: #174EA6;\n",
              "      --disabled-fill-color: #AAA;\n",
              "      --disabled-bg-color: #DDD;\n",
              "  }\n",
              "\n",
              "  [theme=dark] .colab-df-quickchart {\n",
              "      --bg-color: #3B4455;\n",
              "      --fill-color: #D2E3FC;\n",
              "      --hover-bg-color: #434B5C;\n",
              "      --hover-fill-color: #FFFFFF;\n",
              "      --disabled-bg-color: #3B4455;\n",
              "      --disabled-fill-color: #666;\n",
              "  }\n",
              "\n",
              "  .colab-df-quickchart {\n",
              "    background-color: var(--bg-color);\n",
              "    border: none;\n",
              "    border-radius: 50%;\n",
              "    cursor: pointer;\n",
              "    display: none;\n",
              "    fill: var(--fill-color);\n",
              "    height: 32px;\n",
              "    padding: 0;\n",
              "    width: 32px;\n",
              "  }\n",
              "\n",
              "  .colab-df-quickchart:hover {\n",
              "    background-color: var(--hover-bg-color);\n",
              "    box-shadow: 0 1px 2px rgba(60, 64, 67, 0.3), 0 1px 3px 1px rgba(60, 64, 67, 0.15);\n",
              "    fill: var(--button-hover-fill-color);\n",
              "  }\n",
              "\n",
              "  .colab-df-quickchart-complete:disabled,\n",
              "  .colab-df-quickchart-complete:disabled:hover {\n",
              "    background-color: var(--disabled-bg-color);\n",
              "    fill: var(--disabled-fill-color);\n",
              "    box-shadow: none;\n",
              "  }\n",
              "\n",
              "  .colab-df-spinner {\n",
              "    border: 2px solid var(--fill-color);\n",
              "    border-color: transparent;\n",
              "    border-bottom-color: var(--fill-color);\n",
              "    animation:\n",
              "      spin 1s steps(1) infinite;\n",
              "  }\n",
              "\n",
              "  @keyframes spin {\n",
              "    0% {\n",
              "      border-color: transparent;\n",
              "      border-bottom-color: var(--fill-color);\n",
              "      border-left-color: var(--fill-color);\n",
              "    }\n",
              "    20% {\n",
              "      border-color: transparent;\n",
              "      border-left-color: var(--fill-color);\n",
              "      border-top-color: var(--fill-color);\n",
              "    }\n",
              "    30% {\n",
              "      border-color: transparent;\n",
              "      border-left-color: var(--fill-color);\n",
              "      border-top-color: var(--fill-color);\n",
              "      border-right-color: var(--fill-color);\n",
              "    }\n",
              "    40% {\n",
              "      border-color: transparent;\n",
              "      border-right-color: var(--fill-color);\n",
              "      border-top-color: var(--fill-color);\n",
              "    }\n",
              "    60% {\n",
              "      border-color: transparent;\n",
              "      border-right-color: var(--fill-color);\n",
              "    }\n",
              "    80% {\n",
              "      border-color: transparent;\n",
              "      border-right-color: var(--fill-color);\n",
              "      border-bottom-color: var(--fill-color);\n",
              "    }\n",
              "    90% {\n",
              "      border-color: transparent;\n",
              "      border-bottom-color: var(--fill-color);\n",
              "    }\n",
              "  }\n",
              "</style>\n",
              "\n",
              "  <script>\n",
              "    async function quickchart(key) {\n",
              "      const quickchartButtonEl =\n",
              "        document.querySelector('#' + key + ' button');\n",
              "      quickchartButtonEl.disabled = true;  // To prevent multiple clicks.\n",
              "      quickchartButtonEl.classList.add('colab-df-spinner');\n",
              "      try {\n",
              "        const charts = await google.colab.kernel.invokeFunction(\n",
              "            'suggestCharts', [key], {});\n",
              "      } catch (error) {\n",
              "        console.error('Error during call to suggestCharts:', error);\n",
              "      }\n",
              "      quickchartButtonEl.classList.remove('colab-df-spinner');\n",
              "      quickchartButtonEl.classList.add('colab-df-quickchart-complete');\n",
              "    }\n",
              "    (() => {\n",
              "      let quickchartButtonEl =\n",
              "        document.querySelector('#df-b407e541-2839-4e59-9dad-a976e198f8bc button');\n",
              "      quickchartButtonEl.style.display =\n",
              "        google.colab.kernel.accessAllowed ? 'block' : 'none';\n",
              "    })();\n",
              "  </script>\n",
              "</div>\n",
              "\n",
              "  <div id=\"id_dc363701-0fa1-477d-84df-eee9d42c2d1b\">\n",
              "    <style>\n",
              "      .colab-df-generate {\n",
              "        background-color: #E8F0FE;\n",
              "        border: none;\n",
              "        border-radius: 50%;\n",
              "        cursor: pointer;\n",
              "        display: none;\n",
              "        fill: #1967D2;\n",
              "        height: 32px;\n",
              "        padding: 0 0 0 0;\n",
              "        width: 32px;\n",
              "      }\n",
              "\n",
              "      .colab-df-generate:hover {\n",
              "        background-color: #E2EBFA;\n",
              "        box-shadow: 0px 1px 2px rgba(60, 64, 67, 0.3), 0px 1px 3px 1px rgba(60, 64, 67, 0.15);\n",
              "        fill: #174EA6;\n",
              "      }\n",
              "\n",
              "      [theme=dark] .colab-df-generate {\n",
              "        background-color: #3B4455;\n",
              "        fill: #D2E3FC;\n",
              "      }\n",
              "\n",
              "      [theme=dark] .colab-df-generate:hover {\n",
              "        background-color: #434B5C;\n",
              "        box-shadow: 0px 1px 3px 1px rgba(0, 0, 0, 0.15);\n",
              "        filter: drop-shadow(0px 1px 2px rgba(0, 0, 0, 0.3));\n",
              "        fill: #FFFFFF;\n",
              "      }\n",
              "    </style>\n",
              "    <button class=\"colab-df-generate\" onclick=\"generateWithVariable('data_df')\"\n",
              "            title=\"Generate code using this dataframe.\"\n",
              "            style=\"display:none;\">\n",
              "\n",
              "  <svg xmlns=\"http://www.w3.org/2000/svg\" height=\"24px\"viewBox=\"0 0 24 24\"\n",
              "       width=\"24px\">\n",
              "    <path d=\"M7,19H8.4L18.45,9,17,7.55,7,17.6ZM5,21V16.75L18.45,3.32a2,2,0,0,1,2.83,0l1.4,1.43a1.91,1.91,0,0,1,.58,1.4,1.91,1.91,0,0,1-.58,1.4L9.25,21ZM18.45,9,17,7.55Zm-12,3A5.31,5.31,0,0,0,4.9,8.1,5.31,5.31,0,0,0,1,6.5,5.31,5.31,0,0,0,4.9,4.9,5.31,5.31,0,0,0,6.5,1,5.31,5.31,0,0,0,8.1,4.9,5.31,5.31,0,0,0,12,6.5,5.46,5.46,0,0,0,6.5,12Z\"/>\n",
              "  </svg>\n",
              "    </button>\n",
              "    <script>\n",
              "      (() => {\n",
              "      const buttonEl =\n",
              "        document.querySelector('#id_dc363701-0fa1-477d-84df-eee9d42c2d1b button.colab-df-generate');\n",
              "      buttonEl.style.display =\n",
              "        google.colab.kernel.accessAllowed ? 'block' : 'none';\n",
              "\n",
              "      buttonEl.onclick = () => {\n",
              "        google.colab.notebook.generateWithVariable('data_df');\n",
              "      }\n",
              "      })();\n",
              "    </script>\n",
              "  </div>\n",
              "\n",
              "    </div>\n",
              "  </div>\n"
            ]
          },
          "metadata": {},
          "execution_count": 24
        }
      ]
    },
    {
      "cell_type": "code",
      "source": [
        "pd.to_datetime(data_df['datetime']).apply(lambda x: x.date())"
      ],
      "metadata": {
        "colab": {
          "base_uri": "https://localhost:8080/"
        },
        "id": "zR3l2nXk8DA0",
        "outputId": "a7ec561f-9d73-48bb-8b85-90df20e10e4d"
      },
      "execution_count": null,
      "outputs": [
        {
          "output_type": "execute_result",
          "data": {
            "text/plain": [
              "0       2014-03-14\n",
              "1       2014-03-15\n",
              "2       2014-03-16\n",
              "3       2014-03-17\n",
              "4       2014-03-18\n",
              "           ...    \n",
              "2782    2021-10-25\n",
              "2783    2021-10-26\n",
              "2784    2021-10-27\n",
              "2785    2021-10-28\n",
              "2786    2021-10-29\n",
              "Name: datetime, Length: 2787, dtype: object"
            ]
          },
          "metadata": {},
          "execution_count": 36
        }
      ]
    },
    {
      "cell_type": "code",
      "source": [
        "data_df = data_df.drop(columns=['Unnamed: 0'])"
      ],
      "metadata": {
        "id": "lB0agQ_YG86J"
      },
      "execution_count": null,
      "outputs": []
    },
    {
      "cell_type": "code",
      "source": [
        "data_df = data_df.drop(columns=['Currency'])"
      ],
      "metadata": {
        "id": "ti6MEKcbJMjL"
      },
      "execution_count": null,
      "outputs": []
    },
    {
      "cell_type": "code",
      "source": [
        "from sklearn.preprocessing import OrdinalEncoder\n",
        "\n",
        "# Initialize the OrdinalEncoder\n",
        "ordinal_encoder = OrdinalEncoder()\n",
        "\n",
        "# Fit and transform the data\n",
        "data_encoded = ordinal_encoder.fit_transform(data_df)\n",
        "\n",
        "# Display the encoded data\n",
        "# print(data_encoded)\n",
        "print(ordinal_encoder.categories_)"
      ],
      "metadata": {
        "colab": {
          "base_uri": "https://localhost:8080/"
        },
        "id": "05BRE62FsjHf",
        "outputId": "c75bc452-d275-4d24-f665-a6fc64ed1eb6"
      },
      "execution_count": null,
      "outputs": [
        {
          "output_type": "stream",
          "name": "stdout",
          "text": [
            "[array([   0,    1,    2, ..., 2784, 2785, 2786]), array(['BTC'], dtype=object), array(['2014-03-14', '2014-03-15', '2014-03-16', ..., '2021-10-27',\n",
            "       '2021-10-28', '2021-10-29'], dtype=object), array([  109.58483   ,   119.67466   ,   121.65533   , ...,\n",
            "       62927.5571759 , 63224.88439079, 63347.78903511]), array([  109.58483   ,   119.67466   ,   121.65533   , ...,\n",
            "       62988.27017873, 63226.09391718, 63563.67354464]), array([  119.675     ,   122.85216   ,   122.93633   , ...,\n",
            "       63708.34235921, 63851.25073469, 64802.78786952]), array([   84.32833   ,   108.05816   ,   119.00566   , ...,\n",
            "       60034.53466678, 61401.28396831, 62095.63291433])]\n"
          ]
        }
      ]
    },
    {
      "cell_type": "code",
      "source": [
        "data_df.shape[0]"
      ],
      "metadata": {
        "colab": {
          "base_uri": "https://localhost:8080/"
        },
        "id": "L1icueU6Gqlh",
        "outputId": "04d1f846-ab84-4dad-d1fe-3f882f2be260"
      },
      "execution_count": null,
      "outputs": [
        {
          "output_type": "execute_result",
          "data": {
            "text/plain": [
              "2787"
            ]
          },
          "metadata": {},
          "execution_count": 21
        }
      ]
    },
    {
      "cell_type": "code",
      "source": [
        "# Train DGAN model\n",
        "model = DGAN(DGANConfig(\n",
        "    # max_sequence_len=data_df.shape[1],\n",
        "    # max_sequence_len=data_df.shape[0],\n",
        "    max_sequence_len=data_df.shape[0]//4,\n",
        "    sample_len=12,\n",
        "    batch_size=min(1000, data_df.shape[0]),\n",
        "    apply_feature_scaling=True,\n",
        "    apply_example_scaling=False,\n",
        "    use_attribute_discriminator=False,\n",
        "    generator_learning_rate=1e-4,\n",
        "    discriminator_learning_rate=1e-4,\n",
        "    epochs=2000,\n",
        "    # cuda=True\n",
        "))"
      ],
      "metadata": {
        "id": "Lod594-TW_e7"
      },
      "execution_count": null,
      "outputs": []
    },
    {
      "cell_type": "code",
      "source": [
        "model.device"
      ],
      "metadata": {
        "id": "5dx76HE96p-t"
      },
      "execution_count": null,
      "outputs": []
    },
    {
      "cell_type": "code",
      "source": [
        "model.train_dataframe(\n",
        "    data_df,\n",
        "    df_style=\"long\",\n",
        "    # example_id_column = \"Currency\",\n",
        "    # attribute_columns = [\"Unnamed: 0\"],\n",
        "    # discrete_columns = [\"Unnamed: 0\"],\n",
        "    time_column = \"Date\"\n",
        ")"
      ],
      "metadata": {
        "id": "hOUSXUuCXHp5"
      },
      "execution_count": null,
      "outputs": []
    },
    {
      "cell_type": "code",
      "source": [
        "from gretel_synthetics.timeseries_dgan.config import DGANConfig, OutputType\n",
        "from gretel_synthetics.timeseries_dgan.structures import ProgressInfo\n",
        "from gretel_synthetics.timeseries_dgan.dgan import DGAN\n",
        "import matplotlib.pyplot as plt\n",
        "import matplotlib.dates as md\n",
        "import pandas as pd\n",
        "import numpy as np\n",
        "import torch\n",
        "\n",
        "\n",
        "class DGANER:\n",
        "    def __init__(\n",
        "            self,\n",
        "            file_path,\n",
        "            df_style = \"long\",\n",
        "            example_id_column = None,\n",
        "            feature_columns = None,\n",
        "            attribute_columns = None,\n",
        "            discrete_columns = None,\n",
        "            time_column = None,\n",
        "            max_sequence_len = 'default',\n",
        "            sample_len = 'default',\n",
        "            batch_size = 'default',\n",
        "            apply_feature_scaling = True,\n",
        "            apply_example_scaling = False,\n",
        "            use_attribute_discriminator = False,\n",
        "            generator_learning_rate = 1e-4,\n",
        "            discriminator_learning_rate = 1e-4,\n",
        "            epochs = 5000,\n",
        "            cuda = True) -> None:\n",
        "\n",
        "        self.df_style = df_style\n",
        "        self.example_id_column = example_id_column\n",
        "        self.attribute_columns = attribute_columns\n",
        "        self.discrete_columns = discrete_columns\n",
        "        self.time_column = time_column\n",
        "\n",
        "        self.data_df = pd.read_csv(file_path)\n",
        "        self.model = DGAN(DGANConfig(\n",
        "            max_sequence_len = self.data_df.shape[0]//2 if max_sequence_len == 'default' else max_sequence_len,\n",
        "            sample_len = 1 if sample_len == 'default' else sample_len,\n",
        "            batch_size = min(100, self.data_df.shape[1]) if batch_size == 'default' else batch_size,\n",
        "            apply_feature_scaling = apply_feature_scaling,\n",
        "            apply_example_scaling = apply_example_scaling,\n",
        "            use_attribute_discriminator = use_attribute_discriminator,\n",
        "            generator_learning_rate = generator_learning_rate,\n",
        "            discriminator_learning_rate = discriminator_learning_rate,\n",
        "            epochs = epochs,\n",
        "            cuda = True\n",
        "            ))\n",
        "\n",
        "\n",
        "    def train(self):\n",
        "        print(self.df_style)\n",
        "        self.model.train_dataframe(\n",
        "            self.data_df,\n",
        "            df_style = self.df_style,\n",
        "            example_id_column = self.example_id_column,\n",
        "            attribute_columns = self.attribute_columns,\n",
        "            discrete_columns = self.attribute_columns,\n",
        "            time_column = self.time_column,\n",
        "            progress_callback = self.progress_callbacker\n",
        "            )\n",
        "\n",
        "    def generate_synthetic_data_df(self, num_examples):\n",
        "        return self.model.generate_dataframe(num_examples)\n",
        "\n",
        "    def generate_synthetic_data_csv(self, filename, num_examples, index=False, encoding='utf-8'):\n",
        "        self.model.generate_dataframe(num_examples).to_csv(filename, index = index, encoding=encoding)\n",
        "\n",
        "    def progress_callbacker(self, progress_callback:ProgressInfo):\n",
        "        print(f\"Epoch {progress_callback.epoch}/{progress_callback.total_epochs}, Batch {progress_callback.batch}/{progress_callback.total_batches}: {int(progress_callback.frac_completed * 100)}%\")"
      ],
      "metadata": {
        "id": "1xFUC9Av7shw"
      },
      "execution_count": null,
      "outputs": []
    },
    {
      "cell_type": "code",
      "source": [
        "agent = DGANER('btc.csv', time_column='Date', feature_columns=['Closing Price (USD)', '24h Open (USD)', '24h High (USD)', '24h Low (USD)'])"
      ],
      "metadata": {
        "id": "GCEC_0QNoPoU"
      },
      "execution_count": null,
      "outputs": []
    },
    {
      "cell_type": "code",
      "source": [
        "agent.train()"
      ],
      "metadata": {
        "id": "uM_3DnvgogWT"
      },
      "execution_count": null,
      "outputs": []
    },
    {
      "cell_type": "code",
      "source": [
        "synthetic_features = agent.generate_synthetic_data_df(2)"
      ],
      "metadata": {
        "id": "qI5cQKap1YiJ"
      },
      "execution_count": null,
      "outputs": []
    },
    {
      "cell_type": "code",
      "source": [
        "# a, synthetic_features = model.generate_numpy(1)\n",
        "synthetic_features = model.generate_dataframe(1)"
      ],
      "metadata": {
        "id": "RVNIVXyPTclH"
      },
      "execution_count": null,
      "outputs": []
    },
    {
      "cell_type": "code",
      "source": [
        "print(a)"
      ],
      "metadata": {
        "colab": {
          "base_uri": "https://localhost:8080/"
        },
        "id": "7dfG2bC3UxlX",
        "outputId": "75addd3c-f65f-40cc-cfa7-4e2b73460eef"
      },
      "execution_count": null,
      "outputs": [
        {
          "output_type": "stream",
          "name": "stdout",
          "text": [
            "None\n"
          ]
        }
      ]
    },
    {
      "cell_type": "code",
      "source": [
        "synthetic_features.dtypes"
      ],
      "metadata": {
        "colab": {
          "base_uri": "https://localhost:8080/"
        },
        "id": "i-eKH-O1uo-N",
        "outputId": "f1b42889-05cc-4e6a-835d-e49bc221c6c2"
      },
      "execution_count": null,
      "outputs": [
        {
          "output_type": "execute_result",
          "data": {
            "text/plain": [
              "Unnamed: 0                     object\n",
              "Currency                       object\n",
              "Date                   datetime64[ns]\n",
              "Closing Price (USD)            object\n",
              "24h Open (USD)                 object\n",
              "24h High (USD)                 object\n",
              "24h Low (USD)                  object\n",
              "example_id                      int64\n",
              "dtype: object"
            ]
          },
          "metadata": {},
          "execution_count": 7
        }
      ]
    },
    {
      "cell_type": "code",
      "source": [
        "synthetic_features[1][0].shape"
      ],
      "metadata": {
        "colab": {
          "base_uri": "https://localhost:8080/"
        },
        "id": "YDuyDOL0TfIn",
        "outputId": "b05fdc37-bf65-4182-89c3-e3a6102edea2"
      },
      "execution_count": null,
      "outputs": [
        {
          "output_type": "execute_result",
          "data": {
            "text/plain": [
              "(1393, 6)"
            ]
          },
          "metadata": {},
          "execution_count": 44
        }
      ]
    },
    {
      "cell_type": "code",
      "source": [
        "synthetic_features"
      ],
      "metadata": {
        "colab": {
          "base_uri": "https://localhost:8080/",
          "height": 423
        },
        "id": "pE9gEJ11eTWu",
        "outputId": "30791e58-b31c-4e5d-fd1c-14ac9fe9adff"
      },
      "execution_count": null,
      "outputs": [
        {
          "output_type": "execute_result",
          "data": {
            "text/plain": [
              "       Unnamed: 0 Currency       Date Closing Price (USD) 24h Open (USD)  \\\n",
              "0     1434.584839      BTC 2014-03-14        29699.873047   30134.773438   \n",
              "1     1384.770264      BTC 2014-03-15        27691.054688   28173.146484   \n",
              "2     1362.684937      BTC 2014-03-16        25616.142578   25753.496094   \n",
              "3     1388.039673      BTC 2014-03-17        23676.171875   23754.330078   \n",
              "4     1337.046509      BTC 2014-03-18        20800.789062   20063.351562   \n",
              "...           ...      ...        ...                 ...            ...   \n",
              "2781  1437.832275      BTC 2017-12-31         7197.653809    7237.078613   \n",
              "2782  1467.200562      BTC 2018-01-01         6901.786133    7062.356934   \n",
              "2783  1467.071411      BTC 2018-01-02         7422.086914    7387.467773   \n",
              "2784  1492.110962      BTC 2018-01-03          7114.41748    7264.268066   \n",
              "2785  1462.802368      BTC 2018-01-04         7525.362305    7456.939453   \n",
              "\n",
              "     24h High (USD) 24h Low (USD)  example_id  \n",
              "0      29876.900391  29017.660156           0  \n",
              "1      28262.212891  27932.771484           0  \n",
              "2      25216.267578  25333.525391           0  \n",
              "3      22319.332031  22593.025391           0  \n",
              "4      19024.958984  19710.105469           0  \n",
              "...             ...           ...         ...  \n",
              "2781    7606.000488   7108.942383           1  \n",
              "2782    7586.332031   6849.471191           1  \n",
              "2783    7357.999512   6974.040527           1  \n",
              "2784    7387.787109   6869.863281           1  \n",
              "2785    7383.978516   7190.757324           1  \n",
              "\n",
              "[2786 rows x 8 columns]"
            ],
            "text/html": [
              "\n",
              "  <div id=\"df-023d109a-ac92-49cd-bd10-6f30730a5a8e\" class=\"colab-df-container\">\n",
              "    <div>\n",
              "<style scoped>\n",
              "    .dataframe tbody tr th:only-of-type {\n",
              "        vertical-align: middle;\n",
              "    }\n",
              "\n",
              "    .dataframe tbody tr th {\n",
              "        vertical-align: top;\n",
              "    }\n",
              "\n",
              "    .dataframe thead th {\n",
              "        text-align: right;\n",
              "    }\n",
              "</style>\n",
              "<table border=\"1\" class=\"dataframe\">\n",
              "  <thead>\n",
              "    <tr style=\"text-align: right;\">\n",
              "      <th></th>\n",
              "      <th>Unnamed: 0</th>\n",
              "      <th>Currency</th>\n",
              "      <th>Date</th>\n",
              "      <th>Closing Price (USD)</th>\n",
              "      <th>24h Open (USD)</th>\n",
              "      <th>24h High (USD)</th>\n",
              "      <th>24h Low (USD)</th>\n",
              "      <th>example_id</th>\n",
              "    </tr>\n",
              "  </thead>\n",
              "  <tbody>\n",
              "    <tr>\n",
              "      <th>0</th>\n",
              "      <td>1434.584839</td>\n",
              "      <td>BTC</td>\n",
              "      <td>2014-03-14</td>\n",
              "      <td>29699.873047</td>\n",
              "      <td>30134.773438</td>\n",
              "      <td>29876.900391</td>\n",
              "      <td>29017.660156</td>\n",
              "      <td>0</td>\n",
              "    </tr>\n",
              "    <tr>\n",
              "      <th>1</th>\n",
              "      <td>1384.770264</td>\n",
              "      <td>BTC</td>\n",
              "      <td>2014-03-15</td>\n",
              "      <td>27691.054688</td>\n",
              "      <td>28173.146484</td>\n",
              "      <td>28262.212891</td>\n",
              "      <td>27932.771484</td>\n",
              "      <td>0</td>\n",
              "    </tr>\n",
              "    <tr>\n",
              "      <th>2</th>\n",
              "      <td>1362.684937</td>\n",
              "      <td>BTC</td>\n",
              "      <td>2014-03-16</td>\n",
              "      <td>25616.142578</td>\n",
              "      <td>25753.496094</td>\n",
              "      <td>25216.267578</td>\n",
              "      <td>25333.525391</td>\n",
              "      <td>0</td>\n",
              "    </tr>\n",
              "    <tr>\n",
              "      <th>3</th>\n",
              "      <td>1388.039673</td>\n",
              "      <td>BTC</td>\n",
              "      <td>2014-03-17</td>\n",
              "      <td>23676.171875</td>\n",
              "      <td>23754.330078</td>\n",
              "      <td>22319.332031</td>\n",
              "      <td>22593.025391</td>\n",
              "      <td>0</td>\n",
              "    </tr>\n",
              "    <tr>\n",
              "      <th>4</th>\n",
              "      <td>1337.046509</td>\n",
              "      <td>BTC</td>\n",
              "      <td>2014-03-18</td>\n",
              "      <td>20800.789062</td>\n",
              "      <td>20063.351562</td>\n",
              "      <td>19024.958984</td>\n",
              "      <td>19710.105469</td>\n",
              "      <td>0</td>\n",
              "    </tr>\n",
              "    <tr>\n",
              "      <th>...</th>\n",
              "      <td>...</td>\n",
              "      <td>...</td>\n",
              "      <td>...</td>\n",
              "      <td>...</td>\n",
              "      <td>...</td>\n",
              "      <td>...</td>\n",
              "      <td>...</td>\n",
              "      <td>...</td>\n",
              "    </tr>\n",
              "    <tr>\n",
              "      <th>2781</th>\n",
              "      <td>1437.832275</td>\n",
              "      <td>BTC</td>\n",
              "      <td>2017-12-31</td>\n",
              "      <td>7197.653809</td>\n",
              "      <td>7237.078613</td>\n",
              "      <td>7606.000488</td>\n",
              "      <td>7108.942383</td>\n",
              "      <td>1</td>\n",
              "    </tr>\n",
              "    <tr>\n",
              "      <th>2782</th>\n",
              "      <td>1467.200562</td>\n",
              "      <td>BTC</td>\n",
              "      <td>2018-01-01</td>\n",
              "      <td>6901.786133</td>\n",
              "      <td>7062.356934</td>\n",
              "      <td>7586.332031</td>\n",
              "      <td>6849.471191</td>\n",
              "      <td>1</td>\n",
              "    </tr>\n",
              "    <tr>\n",
              "      <th>2783</th>\n",
              "      <td>1467.071411</td>\n",
              "      <td>BTC</td>\n",
              "      <td>2018-01-02</td>\n",
              "      <td>7422.086914</td>\n",
              "      <td>7387.467773</td>\n",
              "      <td>7357.999512</td>\n",
              "      <td>6974.040527</td>\n",
              "      <td>1</td>\n",
              "    </tr>\n",
              "    <tr>\n",
              "      <th>2784</th>\n",
              "      <td>1492.110962</td>\n",
              "      <td>BTC</td>\n",
              "      <td>2018-01-03</td>\n",
              "      <td>7114.41748</td>\n",
              "      <td>7264.268066</td>\n",
              "      <td>7387.787109</td>\n",
              "      <td>6869.863281</td>\n",
              "      <td>1</td>\n",
              "    </tr>\n",
              "    <tr>\n",
              "      <th>2785</th>\n",
              "      <td>1462.802368</td>\n",
              "      <td>BTC</td>\n",
              "      <td>2018-01-04</td>\n",
              "      <td>7525.362305</td>\n",
              "      <td>7456.939453</td>\n",
              "      <td>7383.978516</td>\n",
              "      <td>7190.757324</td>\n",
              "      <td>1</td>\n",
              "    </tr>\n",
              "  </tbody>\n",
              "</table>\n",
              "<p>2786 rows × 8 columns</p>\n",
              "</div>\n",
              "    <div class=\"colab-df-buttons\">\n",
              "\n",
              "  <div class=\"colab-df-container\">\n",
              "    <button class=\"colab-df-convert\" onclick=\"convertToInteractive('df-023d109a-ac92-49cd-bd10-6f30730a5a8e')\"\n",
              "            title=\"Convert this dataframe to an interactive table.\"\n",
              "            style=\"display:none;\">\n",
              "\n",
              "  <svg xmlns=\"http://www.w3.org/2000/svg\" height=\"24px\" viewBox=\"0 -960 960 960\">\n",
              "    <path d=\"M120-120v-720h720v720H120Zm60-500h600v-160H180v160Zm220 220h160v-160H400v160Zm0 220h160v-160H400v160ZM180-400h160v-160H180v160Zm440 0h160v-160H620v160ZM180-180h160v-160H180v160Zm440 0h160v-160H620v160Z\"/>\n",
              "  </svg>\n",
              "    </button>\n",
              "\n",
              "  <style>\n",
              "    .colab-df-container {\n",
              "      display:flex;\n",
              "      gap: 12px;\n",
              "    }\n",
              "\n",
              "    .colab-df-convert {\n",
              "      background-color: #E8F0FE;\n",
              "      border: none;\n",
              "      border-radius: 50%;\n",
              "      cursor: pointer;\n",
              "      display: none;\n",
              "      fill: #1967D2;\n",
              "      height: 32px;\n",
              "      padding: 0 0 0 0;\n",
              "      width: 32px;\n",
              "    }\n",
              "\n",
              "    .colab-df-convert:hover {\n",
              "      background-color: #E2EBFA;\n",
              "      box-shadow: 0px 1px 2px rgba(60, 64, 67, 0.3), 0px 1px 3px 1px rgba(60, 64, 67, 0.15);\n",
              "      fill: #174EA6;\n",
              "    }\n",
              "\n",
              "    .colab-df-buttons div {\n",
              "      margin-bottom: 4px;\n",
              "    }\n",
              "\n",
              "    [theme=dark] .colab-df-convert {\n",
              "      background-color: #3B4455;\n",
              "      fill: #D2E3FC;\n",
              "    }\n",
              "\n",
              "    [theme=dark] .colab-df-convert:hover {\n",
              "      background-color: #434B5C;\n",
              "      box-shadow: 0px 1px 3px 1px rgba(0, 0, 0, 0.15);\n",
              "      filter: drop-shadow(0px 1px 2px rgba(0, 0, 0, 0.3));\n",
              "      fill: #FFFFFF;\n",
              "    }\n",
              "  </style>\n",
              "\n",
              "    <script>\n",
              "      const buttonEl =\n",
              "        document.querySelector('#df-023d109a-ac92-49cd-bd10-6f30730a5a8e button.colab-df-convert');\n",
              "      buttonEl.style.display =\n",
              "        google.colab.kernel.accessAllowed ? 'block' : 'none';\n",
              "\n",
              "      async function convertToInteractive(key) {\n",
              "        const element = document.querySelector('#df-023d109a-ac92-49cd-bd10-6f30730a5a8e');\n",
              "        const dataTable =\n",
              "          await google.colab.kernel.invokeFunction('convertToInteractive',\n",
              "                                                    [key], {});\n",
              "        if (!dataTable) return;\n",
              "\n",
              "        const docLinkHtml = 'Like what you see? Visit the ' +\n",
              "          '<a target=\"_blank\" href=https://colab.research.google.com/notebooks/data_table.ipynb>data table notebook</a>'\n",
              "          + ' to learn more about interactive tables.';\n",
              "        element.innerHTML = '';\n",
              "        dataTable['output_type'] = 'display_data';\n",
              "        await google.colab.output.renderOutput(dataTable, element);\n",
              "        const docLink = document.createElement('div');\n",
              "        docLink.innerHTML = docLinkHtml;\n",
              "        element.appendChild(docLink);\n",
              "      }\n",
              "    </script>\n",
              "  </div>\n",
              "\n",
              "\n",
              "<div id=\"df-62d3ca97-f9c0-4325-8f60-635bf748a810\">\n",
              "  <button class=\"colab-df-quickchart\" onclick=\"quickchart('df-62d3ca97-f9c0-4325-8f60-635bf748a810')\"\n",
              "            title=\"Suggest charts\"\n",
              "            style=\"display:none;\">\n",
              "\n",
              "<svg xmlns=\"http://www.w3.org/2000/svg\" height=\"24px\"viewBox=\"0 0 24 24\"\n",
              "     width=\"24px\">\n",
              "    <g>\n",
              "        <path d=\"M19 3H5c-1.1 0-2 .9-2 2v14c0 1.1.9 2 2 2h14c1.1 0 2-.9 2-2V5c0-1.1-.9-2-2-2zM9 17H7v-7h2v7zm4 0h-2V7h2v10zm4 0h-2v-4h2v4z\"/>\n",
              "    </g>\n",
              "</svg>\n",
              "  </button>\n",
              "\n",
              "<style>\n",
              "  .colab-df-quickchart {\n",
              "      --bg-color: #E8F0FE;\n",
              "      --fill-color: #1967D2;\n",
              "      --hover-bg-color: #E2EBFA;\n",
              "      --hover-fill-color: #174EA6;\n",
              "      --disabled-fill-color: #AAA;\n",
              "      --disabled-bg-color: #DDD;\n",
              "  }\n",
              "\n",
              "  [theme=dark] .colab-df-quickchart {\n",
              "      --bg-color: #3B4455;\n",
              "      --fill-color: #D2E3FC;\n",
              "      --hover-bg-color: #434B5C;\n",
              "      --hover-fill-color: #FFFFFF;\n",
              "      --disabled-bg-color: #3B4455;\n",
              "      --disabled-fill-color: #666;\n",
              "  }\n",
              "\n",
              "  .colab-df-quickchart {\n",
              "    background-color: var(--bg-color);\n",
              "    border: none;\n",
              "    border-radius: 50%;\n",
              "    cursor: pointer;\n",
              "    display: none;\n",
              "    fill: var(--fill-color);\n",
              "    height: 32px;\n",
              "    padding: 0;\n",
              "    width: 32px;\n",
              "  }\n",
              "\n",
              "  .colab-df-quickchart:hover {\n",
              "    background-color: var(--hover-bg-color);\n",
              "    box-shadow: 0 1px 2px rgba(60, 64, 67, 0.3), 0 1px 3px 1px rgba(60, 64, 67, 0.15);\n",
              "    fill: var(--button-hover-fill-color);\n",
              "  }\n",
              "\n",
              "  .colab-df-quickchart-complete:disabled,\n",
              "  .colab-df-quickchart-complete:disabled:hover {\n",
              "    background-color: var(--disabled-bg-color);\n",
              "    fill: var(--disabled-fill-color);\n",
              "    box-shadow: none;\n",
              "  }\n",
              "\n",
              "  .colab-df-spinner {\n",
              "    border: 2px solid var(--fill-color);\n",
              "    border-color: transparent;\n",
              "    border-bottom-color: var(--fill-color);\n",
              "    animation:\n",
              "      spin 1s steps(1) infinite;\n",
              "  }\n",
              "\n",
              "  @keyframes spin {\n",
              "    0% {\n",
              "      border-color: transparent;\n",
              "      border-bottom-color: var(--fill-color);\n",
              "      border-left-color: var(--fill-color);\n",
              "    }\n",
              "    20% {\n",
              "      border-color: transparent;\n",
              "      border-left-color: var(--fill-color);\n",
              "      border-top-color: var(--fill-color);\n",
              "    }\n",
              "    30% {\n",
              "      border-color: transparent;\n",
              "      border-left-color: var(--fill-color);\n",
              "      border-top-color: var(--fill-color);\n",
              "      border-right-color: var(--fill-color);\n",
              "    }\n",
              "    40% {\n",
              "      border-color: transparent;\n",
              "      border-right-color: var(--fill-color);\n",
              "      border-top-color: var(--fill-color);\n",
              "    }\n",
              "    60% {\n",
              "      border-color: transparent;\n",
              "      border-right-color: var(--fill-color);\n",
              "    }\n",
              "    80% {\n",
              "      border-color: transparent;\n",
              "      border-right-color: var(--fill-color);\n",
              "      border-bottom-color: var(--fill-color);\n",
              "    }\n",
              "    90% {\n",
              "      border-color: transparent;\n",
              "      border-bottom-color: var(--fill-color);\n",
              "    }\n",
              "  }\n",
              "</style>\n",
              "\n",
              "  <script>\n",
              "    async function quickchart(key) {\n",
              "      const quickchartButtonEl =\n",
              "        document.querySelector('#' + key + ' button');\n",
              "      quickchartButtonEl.disabled = true;  // To prevent multiple clicks.\n",
              "      quickchartButtonEl.classList.add('colab-df-spinner');\n",
              "      try {\n",
              "        const charts = await google.colab.kernel.invokeFunction(\n",
              "            'suggestCharts', [key], {});\n",
              "      } catch (error) {\n",
              "        console.error('Error during call to suggestCharts:', error);\n",
              "      }\n",
              "      quickchartButtonEl.classList.remove('colab-df-spinner');\n",
              "      quickchartButtonEl.classList.add('colab-df-quickchart-complete');\n",
              "    }\n",
              "    (() => {\n",
              "      let quickchartButtonEl =\n",
              "        document.querySelector('#df-62d3ca97-f9c0-4325-8f60-635bf748a810 button');\n",
              "      quickchartButtonEl.style.display =\n",
              "        google.colab.kernel.accessAllowed ? 'block' : 'none';\n",
              "    })();\n",
              "  </script>\n",
              "</div>\n",
              "\n",
              "  <div id=\"id_78f3f464-e73d-4182-8b56-e6fdb7644b11\">\n",
              "    <style>\n",
              "      .colab-df-generate {\n",
              "        background-color: #E8F0FE;\n",
              "        border: none;\n",
              "        border-radius: 50%;\n",
              "        cursor: pointer;\n",
              "        display: none;\n",
              "        fill: #1967D2;\n",
              "        height: 32px;\n",
              "        padding: 0 0 0 0;\n",
              "        width: 32px;\n",
              "      }\n",
              "\n",
              "      .colab-df-generate:hover {\n",
              "        background-color: #E2EBFA;\n",
              "        box-shadow: 0px 1px 2px rgba(60, 64, 67, 0.3), 0px 1px 3px 1px rgba(60, 64, 67, 0.15);\n",
              "        fill: #174EA6;\n",
              "      }\n",
              "\n",
              "      [theme=dark] .colab-df-generate {\n",
              "        background-color: #3B4455;\n",
              "        fill: #D2E3FC;\n",
              "      }\n",
              "\n",
              "      [theme=dark] .colab-df-generate:hover {\n",
              "        background-color: #434B5C;\n",
              "        box-shadow: 0px 1px 3px 1px rgba(0, 0, 0, 0.15);\n",
              "        filter: drop-shadow(0px 1px 2px rgba(0, 0, 0, 0.3));\n",
              "        fill: #FFFFFF;\n",
              "      }\n",
              "    </style>\n",
              "    <button class=\"colab-df-generate\" onclick=\"generateWithVariable('synthetic_features')\"\n",
              "            title=\"Generate code using this dataframe.\"\n",
              "            style=\"display:none;\">\n",
              "\n",
              "  <svg xmlns=\"http://www.w3.org/2000/svg\" height=\"24px\"viewBox=\"0 0 24 24\"\n",
              "       width=\"24px\">\n",
              "    <path d=\"M7,19H8.4L18.45,9,17,7.55,7,17.6ZM5,21V16.75L18.45,3.32a2,2,0,0,1,2.83,0l1.4,1.43a1.91,1.91,0,0,1,.58,1.4,1.91,1.91,0,0,1-.58,1.4L9.25,21ZM18.45,9,17,7.55Zm-12,3A5.31,5.31,0,0,0,4.9,8.1,5.31,5.31,0,0,0,1,6.5,5.31,5.31,0,0,0,4.9,4.9,5.31,5.31,0,0,0,6.5,1,5.31,5.31,0,0,0,8.1,4.9,5.31,5.31,0,0,0,12,6.5,5.46,5.46,0,0,0,6.5,12Z\"/>\n",
              "  </svg>\n",
              "    </button>\n",
              "    <script>\n",
              "      (() => {\n",
              "      const buttonEl =\n",
              "        document.querySelector('#id_78f3f464-e73d-4182-8b56-e6fdb7644b11 button.colab-df-generate');\n",
              "      buttonEl.style.display =\n",
              "        google.colab.kernel.accessAllowed ? 'block' : 'none';\n",
              "\n",
              "      buttonEl.onclick = () => {\n",
              "        google.colab.notebook.generateWithVariable('synthetic_features');\n",
              "      }\n",
              "      })();\n",
              "    </script>\n",
              "  </div>\n",
              "\n",
              "    </div>\n",
              "  </div>\n"
            ]
          },
          "metadata": {},
          "execution_count": 17
        }
      ]
    },
    {
      "cell_type": "code",
      "source": [
        "synthetic_df = pd.DataFrame(synthetic_features.reshape(-1, synthetic_features.shape[2]), columns=data_df.columns[:])"
      ],
      "metadata": {
        "id": "CqpB-dC2fl_X"
      },
      "execution_count": null,
      "outputs": []
    },
    {
      "cell_type": "code",
      "source": [
        "synthetic_df['datetime'] = pd.to_datetime(synthetic_df['datetime']).apply(lambda x: x.date())"
      ],
      "metadata": {
        "id": "HIM82koSh7ac"
      },
      "execution_count": null,
      "outputs": []
    },
    {
      "cell_type": "code",
      "source": [
        "synthetic_df.dtypes"
      ],
      "metadata": {
        "colab": {
          "base_uri": "https://localhost:8080/"
        },
        "id": "rQK68v4n5HIM",
        "outputId": "b89dcf75-c427-434d-c0cd-9244d5ee0d70"
      },
      "execution_count": null,
      "outputs": [
        {
          "output_type": "execute_result",
          "data": {
            "text/plain": [
              "Date                   object\n",
              "Currency               object\n",
              "Closing Price (USD)    object\n",
              "24h Open (USD)         object\n",
              "24h High (USD)         object\n",
              "24h Low (USD)          object\n",
              "dtype: object"
            ]
          },
          "metadata": {},
          "execution_count": 47
        }
      ]
    },
    {
      "cell_type": "code",
      "source": [
        "synthetic_df"
      ],
      "metadata": {
        "colab": {
          "base_uri": "https://localhost:8080/",
          "height": 423
        },
        "id": "ZdWZyPw1hTZc",
        "outputId": "34de1176-1075-4591-95ac-19d5c04a9225"
      },
      "execution_count": null,
      "outputs": [
        {
          "output_type": "execute_result",
          "data": {
            "text/plain": [
              "             Date Currency Closing Price (USD) 24h Open (USD) 24h High (USD)  \\\n",
              "0     1362.376587      BTC        29386.679688   28977.589844   31559.498047   \n",
              "1     1395.661255      BTC        27885.613281   27718.900391   28233.675781   \n",
              "2     1317.509277      BTC        24809.972656   24968.515625   25059.060547   \n",
              "3     1293.353027      BTC        21096.150391    21781.71875   21702.632812   \n",
              "4     1271.246094      BTC        17420.345703   18183.689453   17579.691406   \n",
              "...           ...      ...                 ...            ...            ...   \n",
              "1388  1432.456055      BTC         6465.312012    6433.916016    6693.783691   \n",
              "1389  1428.062622      BTC         6533.083984    6744.361328    6598.608887   \n",
              "1390  1402.223389      BTC         6464.542969    6376.936035    6607.209473   \n",
              "1391  1412.015381      BTC         6554.841797    6630.103027     6474.54834   \n",
              "1392  1399.393555      BTC         6612.936523    6411.664551     6374.70166   \n",
              "\n",
              "     24h Low (USD)  \n",
              "0     28737.320312  \n",
              "1        26727.625  \n",
              "2     23682.085938  \n",
              "3     20758.501953  \n",
              "4     17277.132812  \n",
              "...            ...  \n",
              "1388   6193.637207  \n",
              "1389   6343.992676  \n",
              "1390   6202.295898  \n",
              "1391   6337.219727  \n",
              "1392    6310.39502  \n",
              "\n",
              "[1393 rows x 6 columns]"
            ],
            "text/html": [
              "\n",
              "  <div id=\"df-f48f4b0d-2f9a-49a5-8db3-729de4e72928\" class=\"colab-df-container\">\n",
              "    <div>\n",
              "<style scoped>\n",
              "    .dataframe tbody tr th:only-of-type {\n",
              "        vertical-align: middle;\n",
              "    }\n",
              "\n",
              "    .dataframe tbody tr th {\n",
              "        vertical-align: top;\n",
              "    }\n",
              "\n",
              "    .dataframe thead th {\n",
              "        text-align: right;\n",
              "    }\n",
              "</style>\n",
              "<table border=\"1\" class=\"dataframe\">\n",
              "  <thead>\n",
              "    <tr style=\"text-align: right;\">\n",
              "      <th></th>\n",
              "      <th>Date</th>\n",
              "      <th>Currency</th>\n",
              "      <th>Closing Price (USD)</th>\n",
              "      <th>24h Open (USD)</th>\n",
              "      <th>24h High (USD)</th>\n",
              "      <th>24h Low (USD)</th>\n",
              "    </tr>\n",
              "  </thead>\n",
              "  <tbody>\n",
              "    <tr>\n",
              "      <th>0</th>\n",
              "      <td>1362.376587</td>\n",
              "      <td>BTC</td>\n",
              "      <td>29386.679688</td>\n",
              "      <td>28977.589844</td>\n",
              "      <td>31559.498047</td>\n",
              "      <td>28737.320312</td>\n",
              "    </tr>\n",
              "    <tr>\n",
              "      <th>1</th>\n",
              "      <td>1395.661255</td>\n",
              "      <td>BTC</td>\n",
              "      <td>27885.613281</td>\n",
              "      <td>27718.900391</td>\n",
              "      <td>28233.675781</td>\n",
              "      <td>26727.625</td>\n",
              "    </tr>\n",
              "    <tr>\n",
              "      <th>2</th>\n",
              "      <td>1317.509277</td>\n",
              "      <td>BTC</td>\n",
              "      <td>24809.972656</td>\n",
              "      <td>24968.515625</td>\n",
              "      <td>25059.060547</td>\n",
              "      <td>23682.085938</td>\n",
              "    </tr>\n",
              "    <tr>\n",
              "      <th>3</th>\n",
              "      <td>1293.353027</td>\n",
              "      <td>BTC</td>\n",
              "      <td>21096.150391</td>\n",
              "      <td>21781.71875</td>\n",
              "      <td>21702.632812</td>\n",
              "      <td>20758.501953</td>\n",
              "    </tr>\n",
              "    <tr>\n",
              "      <th>4</th>\n",
              "      <td>1271.246094</td>\n",
              "      <td>BTC</td>\n",
              "      <td>17420.345703</td>\n",
              "      <td>18183.689453</td>\n",
              "      <td>17579.691406</td>\n",
              "      <td>17277.132812</td>\n",
              "    </tr>\n",
              "    <tr>\n",
              "      <th>...</th>\n",
              "      <td>...</td>\n",
              "      <td>...</td>\n",
              "      <td>...</td>\n",
              "      <td>...</td>\n",
              "      <td>...</td>\n",
              "      <td>...</td>\n",
              "    </tr>\n",
              "    <tr>\n",
              "      <th>1388</th>\n",
              "      <td>1432.456055</td>\n",
              "      <td>BTC</td>\n",
              "      <td>6465.312012</td>\n",
              "      <td>6433.916016</td>\n",
              "      <td>6693.783691</td>\n",
              "      <td>6193.637207</td>\n",
              "    </tr>\n",
              "    <tr>\n",
              "      <th>1389</th>\n",
              "      <td>1428.062622</td>\n",
              "      <td>BTC</td>\n",
              "      <td>6533.083984</td>\n",
              "      <td>6744.361328</td>\n",
              "      <td>6598.608887</td>\n",
              "      <td>6343.992676</td>\n",
              "    </tr>\n",
              "    <tr>\n",
              "      <th>1390</th>\n",
              "      <td>1402.223389</td>\n",
              "      <td>BTC</td>\n",
              "      <td>6464.542969</td>\n",
              "      <td>6376.936035</td>\n",
              "      <td>6607.209473</td>\n",
              "      <td>6202.295898</td>\n",
              "    </tr>\n",
              "    <tr>\n",
              "      <th>1391</th>\n",
              "      <td>1412.015381</td>\n",
              "      <td>BTC</td>\n",
              "      <td>6554.841797</td>\n",
              "      <td>6630.103027</td>\n",
              "      <td>6474.54834</td>\n",
              "      <td>6337.219727</td>\n",
              "    </tr>\n",
              "    <tr>\n",
              "      <th>1392</th>\n",
              "      <td>1399.393555</td>\n",
              "      <td>BTC</td>\n",
              "      <td>6612.936523</td>\n",
              "      <td>6411.664551</td>\n",
              "      <td>6374.70166</td>\n",
              "      <td>6310.39502</td>\n",
              "    </tr>\n",
              "  </tbody>\n",
              "</table>\n",
              "<p>1393 rows × 6 columns</p>\n",
              "</div>\n",
              "    <div class=\"colab-df-buttons\">\n",
              "\n",
              "  <div class=\"colab-df-container\">\n",
              "    <button class=\"colab-df-convert\" onclick=\"convertToInteractive('df-f48f4b0d-2f9a-49a5-8db3-729de4e72928')\"\n",
              "            title=\"Convert this dataframe to an interactive table.\"\n",
              "            style=\"display:none;\">\n",
              "\n",
              "  <svg xmlns=\"http://www.w3.org/2000/svg\" height=\"24px\" viewBox=\"0 -960 960 960\">\n",
              "    <path d=\"M120-120v-720h720v720H120Zm60-500h600v-160H180v160Zm220 220h160v-160H400v160Zm0 220h160v-160H400v160ZM180-400h160v-160H180v160Zm440 0h160v-160H620v160ZM180-180h160v-160H180v160Zm440 0h160v-160H620v160Z\"/>\n",
              "  </svg>\n",
              "    </button>\n",
              "\n",
              "  <style>\n",
              "    .colab-df-container {\n",
              "      display:flex;\n",
              "      gap: 12px;\n",
              "    }\n",
              "\n",
              "    .colab-df-convert {\n",
              "      background-color: #E8F0FE;\n",
              "      border: none;\n",
              "      border-radius: 50%;\n",
              "      cursor: pointer;\n",
              "      display: none;\n",
              "      fill: #1967D2;\n",
              "      height: 32px;\n",
              "      padding: 0 0 0 0;\n",
              "      width: 32px;\n",
              "    }\n",
              "\n",
              "    .colab-df-convert:hover {\n",
              "      background-color: #E2EBFA;\n",
              "      box-shadow: 0px 1px 2px rgba(60, 64, 67, 0.3), 0px 1px 3px 1px rgba(60, 64, 67, 0.15);\n",
              "      fill: #174EA6;\n",
              "    }\n",
              "\n",
              "    .colab-df-buttons div {\n",
              "      margin-bottom: 4px;\n",
              "    }\n",
              "\n",
              "    [theme=dark] .colab-df-convert {\n",
              "      background-color: #3B4455;\n",
              "      fill: #D2E3FC;\n",
              "    }\n",
              "\n",
              "    [theme=dark] .colab-df-convert:hover {\n",
              "      background-color: #434B5C;\n",
              "      box-shadow: 0px 1px 3px 1px rgba(0, 0, 0, 0.15);\n",
              "      filter: drop-shadow(0px 1px 2px rgba(0, 0, 0, 0.3));\n",
              "      fill: #FFFFFF;\n",
              "    }\n",
              "  </style>\n",
              "\n",
              "    <script>\n",
              "      const buttonEl =\n",
              "        document.querySelector('#df-f48f4b0d-2f9a-49a5-8db3-729de4e72928 button.colab-df-convert');\n",
              "      buttonEl.style.display =\n",
              "        google.colab.kernel.accessAllowed ? 'block' : 'none';\n",
              "\n",
              "      async function convertToInteractive(key) {\n",
              "        const element = document.querySelector('#df-f48f4b0d-2f9a-49a5-8db3-729de4e72928');\n",
              "        const dataTable =\n",
              "          await google.colab.kernel.invokeFunction('convertToInteractive',\n",
              "                                                    [key], {});\n",
              "        if (!dataTable) return;\n",
              "\n",
              "        const docLinkHtml = 'Like what you see? Visit the ' +\n",
              "          '<a target=\"_blank\" href=https://colab.research.google.com/notebooks/data_table.ipynb>data table notebook</a>'\n",
              "          + ' to learn more about interactive tables.';\n",
              "        element.innerHTML = '';\n",
              "        dataTable['output_type'] = 'display_data';\n",
              "        await google.colab.output.renderOutput(dataTable, element);\n",
              "        const docLink = document.createElement('div');\n",
              "        docLink.innerHTML = docLinkHtml;\n",
              "        element.appendChild(docLink);\n",
              "      }\n",
              "    </script>\n",
              "  </div>\n",
              "\n",
              "\n",
              "<div id=\"df-85ac7cb3-5075-46d8-8d3b-430e8d5a73da\">\n",
              "  <button class=\"colab-df-quickchart\" onclick=\"quickchart('df-85ac7cb3-5075-46d8-8d3b-430e8d5a73da')\"\n",
              "            title=\"Suggest charts\"\n",
              "            style=\"display:none;\">\n",
              "\n",
              "<svg xmlns=\"http://www.w3.org/2000/svg\" height=\"24px\"viewBox=\"0 0 24 24\"\n",
              "     width=\"24px\">\n",
              "    <g>\n",
              "        <path d=\"M19 3H5c-1.1 0-2 .9-2 2v14c0 1.1.9 2 2 2h14c1.1 0 2-.9 2-2V5c0-1.1-.9-2-2-2zM9 17H7v-7h2v7zm4 0h-2V7h2v10zm4 0h-2v-4h2v4z\"/>\n",
              "    </g>\n",
              "</svg>\n",
              "  </button>\n",
              "\n",
              "<style>\n",
              "  .colab-df-quickchart {\n",
              "      --bg-color: #E8F0FE;\n",
              "      --fill-color: #1967D2;\n",
              "      --hover-bg-color: #E2EBFA;\n",
              "      --hover-fill-color: #174EA6;\n",
              "      --disabled-fill-color: #AAA;\n",
              "      --disabled-bg-color: #DDD;\n",
              "  }\n",
              "\n",
              "  [theme=dark] .colab-df-quickchart {\n",
              "      --bg-color: #3B4455;\n",
              "      --fill-color: #D2E3FC;\n",
              "      --hover-bg-color: #434B5C;\n",
              "      --hover-fill-color: #FFFFFF;\n",
              "      --disabled-bg-color: #3B4455;\n",
              "      --disabled-fill-color: #666;\n",
              "  }\n",
              "\n",
              "  .colab-df-quickchart {\n",
              "    background-color: var(--bg-color);\n",
              "    border: none;\n",
              "    border-radius: 50%;\n",
              "    cursor: pointer;\n",
              "    display: none;\n",
              "    fill: var(--fill-color);\n",
              "    height: 32px;\n",
              "    padding: 0;\n",
              "    width: 32px;\n",
              "  }\n",
              "\n",
              "  .colab-df-quickchart:hover {\n",
              "    background-color: var(--hover-bg-color);\n",
              "    box-shadow: 0 1px 2px rgba(60, 64, 67, 0.3), 0 1px 3px 1px rgba(60, 64, 67, 0.15);\n",
              "    fill: var(--button-hover-fill-color);\n",
              "  }\n",
              "\n",
              "  .colab-df-quickchart-complete:disabled,\n",
              "  .colab-df-quickchart-complete:disabled:hover {\n",
              "    background-color: var(--disabled-bg-color);\n",
              "    fill: var(--disabled-fill-color);\n",
              "    box-shadow: none;\n",
              "  }\n",
              "\n",
              "  .colab-df-spinner {\n",
              "    border: 2px solid var(--fill-color);\n",
              "    border-color: transparent;\n",
              "    border-bottom-color: var(--fill-color);\n",
              "    animation:\n",
              "      spin 1s steps(1) infinite;\n",
              "  }\n",
              "\n",
              "  @keyframes spin {\n",
              "    0% {\n",
              "      border-color: transparent;\n",
              "      border-bottom-color: var(--fill-color);\n",
              "      border-left-color: var(--fill-color);\n",
              "    }\n",
              "    20% {\n",
              "      border-color: transparent;\n",
              "      border-left-color: var(--fill-color);\n",
              "      border-top-color: var(--fill-color);\n",
              "    }\n",
              "    30% {\n",
              "      border-color: transparent;\n",
              "      border-left-color: var(--fill-color);\n",
              "      border-top-color: var(--fill-color);\n",
              "      border-right-color: var(--fill-color);\n",
              "    }\n",
              "    40% {\n",
              "      border-color: transparent;\n",
              "      border-right-color: var(--fill-color);\n",
              "      border-top-color: var(--fill-color);\n",
              "    }\n",
              "    60% {\n",
              "      border-color: transparent;\n",
              "      border-right-color: var(--fill-color);\n",
              "    }\n",
              "    80% {\n",
              "      border-color: transparent;\n",
              "      border-right-color: var(--fill-color);\n",
              "      border-bottom-color: var(--fill-color);\n",
              "    }\n",
              "    90% {\n",
              "      border-color: transparent;\n",
              "      border-bottom-color: var(--fill-color);\n",
              "    }\n",
              "  }\n",
              "</style>\n",
              "\n",
              "  <script>\n",
              "    async function quickchart(key) {\n",
              "      const quickchartButtonEl =\n",
              "        document.querySelector('#' + key + ' button');\n",
              "      quickchartButtonEl.disabled = true;  // To prevent multiple clicks.\n",
              "      quickchartButtonEl.classList.add('colab-df-spinner');\n",
              "      try {\n",
              "        const charts = await google.colab.kernel.invokeFunction(\n",
              "            'suggestCharts', [key], {});\n",
              "      } catch (error) {\n",
              "        console.error('Error during call to suggestCharts:', error);\n",
              "      }\n",
              "      quickchartButtonEl.classList.remove('colab-df-spinner');\n",
              "      quickchartButtonEl.classList.add('colab-df-quickchart-complete');\n",
              "    }\n",
              "    (() => {\n",
              "      let quickchartButtonEl =\n",
              "        document.querySelector('#df-85ac7cb3-5075-46d8-8d3b-430e8d5a73da button');\n",
              "      quickchartButtonEl.style.display =\n",
              "        google.colab.kernel.accessAllowed ? 'block' : 'none';\n",
              "    })();\n",
              "  </script>\n",
              "</div>\n",
              "\n",
              "  <div id=\"id_a8ddf487-4bc5-4f51-b60d-2722e521cb76\">\n",
              "    <style>\n",
              "      .colab-df-generate {\n",
              "        background-color: #E8F0FE;\n",
              "        border: none;\n",
              "        border-radius: 50%;\n",
              "        cursor: pointer;\n",
              "        display: none;\n",
              "        fill: #1967D2;\n",
              "        height: 32px;\n",
              "        padding: 0 0 0 0;\n",
              "        width: 32px;\n",
              "      }\n",
              "\n",
              "      .colab-df-generate:hover {\n",
              "        background-color: #E2EBFA;\n",
              "        box-shadow: 0px 1px 2px rgba(60, 64, 67, 0.3), 0px 1px 3px 1px rgba(60, 64, 67, 0.15);\n",
              "        fill: #174EA6;\n",
              "      }\n",
              "\n",
              "      [theme=dark] .colab-df-generate {\n",
              "        background-color: #3B4455;\n",
              "        fill: #D2E3FC;\n",
              "      }\n",
              "\n",
              "      [theme=dark] .colab-df-generate:hover {\n",
              "        background-color: #434B5C;\n",
              "        box-shadow: 0px 1px 3px 1px rgba(0, 0, 0, 0.15);\n",
              "        filter: drop-shadow(0px 1px 2px rgba(0, 0, 0, 0.3));\n",
              "        fill: #FFFFFF;\n",
              "      }\n",
              "    </style>\n",
              "    <button class=\"colab-df-generate\" onclick=\"generateWithVariable('synthetic_df')\"\n",
              "            title=\"Generate code using this dataframe.\"\n",
              "            style=\"display:none;\">\n",
              "\n",
              "  <svg xmlns=\"http://www.w3.org/2000/svg\" height=\"24px\"viewBox=\"0 0 24 24\"\n",
              "       width=\"24px\">\n",
              "    <path d=\"M7,19H8.4L18.45,9,17,7.55,7,17.6ZM5,21V16.75L18.45,3.32a2,2,0,0,1,2.83,0l1.4,1.43a1.91,1.91,0,0,1,.58,1.4,1.91,1.91,0,0,1-.58,1.4L9.25,21ZM18.45,9,17,7.55Zm-12,3A5.31,5.31,0,0,0,4.9,8.1,5.31,5.31,0,0,0,1,6.5,5.31,5.31,0,0,0,4.9,4.9,5.31,5.31,0,0,0,6.5,1,5.31,5.31,0,0,0,8.1,4.9,5.31,5.31,0,0,0,12,6.5,5.46,5.46,0,0,0,6.5,12Z\"/>\n",
              "  </svg>\n",
              "    </button>\n",
              "    <script>\n",
              "      (() => {\n",
              "      const buttonEl =\n",
              "        document.querySelector('#id_a8ddf487-4bc5-4f51-b60d-2722e521cb76 button.colab-df-generate');\n",
              "      buttonEl.style.display =\n",
              "        google.colab.kernel.accessAllowed ? 'block' : 'none';\n",
              "\n",
              "      buttonEl.onclick = () => {\n",
              "        google.colab.notebook.generateWithVariable('synthetic_df');\n",
              "      }\n",
              "      })();\n",
              "    </script>\n",
              "  </div>\n",
              "\n",
              "    </div>\n",
              "  </div>\n"
            ]
          },
          "metadata": {},
          "execution_count": 46
        }
      ]
    },
    {
      "cell_type": "code",
      "source": [
        "data_df.columns[:]"
      ],
      "metadata": {
        "colab": {
          "base_uri": "https://localhost:8080/"
        },
        "id": "yrrqky_if4AL",
        "outputId": "6c8fffe7-a321-4591-d758-48dac8e8bd3e"
      },
      "execution_count": null,
      "outputs": [
        {
          "output_type": "execute_result",
          "data": {
            "text/plain": [
              "Index(['Unnamed: 0', 'Currency', 'Date', 'Closing Price (USD)',\n",
              "       '24h Open (USD)', '24h High (USD)', '24h Low (USD)'],\n",
              "      dtype='object')"
            ]
          },
          "metadata": {},
          "execution_count": 25
        }
      ]
    },
    {
      "cell_type": "code",
      "source": [
        "synthetic_features.shape[2]"
      ],
      "metadata": {
        "colab": {
          "base_uri": "https://localhost:8080/"
        },
        "id": "Bhe6cqKSgE3a",
        "outputId": "92eb258e-79b2-4453-a7fd-a1d8e4592557"
      },
      "execution_count": null,
      "outputs": [
        {
          "output_type": "execute_result",
          "data": {
            "text/plain": [
              "7"
            ]
          },
          "metadata": {},
          "execution_count": 26
        }
      ]
    },
    {
      "cell_type": "code",
      "source": [
        "synthetic_features = agent.model.generate_numpy(1)"
      ],
      "metadata": {
        "id": "mxrcp_lS3kbw"
      },
      "execution_count": null,
      "outputs": []
    },
    {
      "cell_type": "code",
      "source": [
        "synthetic_df = pd.DataFrame(synthetic_features[1][0], columns = [\"Unnamed: 0\",\"Date\",\t\"Currency\",\t\"Closing Price (USD)\",\t\"24h Open (USD)\",\t\"24h High (USD)\",\t\"24h Low (USD)\"])"
      ],
      "metadata": {
        "id": "UHgE5H3OUskj"
      },
      "execution_count": null,
      "outputs": []
    },
    {
      "cell_type": "code",
      "source": [
        "import numpy as np\n",
        "from scipy import version as scipy_version\n",
        "\n",
        "# Your input data (replace this with your actual data)\n",
        "your_data = [\"apple\", \"banana\", \"apple\", \"orange\", \"banana\"]\n",
        "\n",
        "# Check if SciPy version is at least 1.11.0\n",
        "if scipy_version.version >= '1.11.0':\n",
        "    print(\"a\")\n",
        "    # Convert input data to a numeric array\n",
        "    unique_values, counts = np.unique(np.asarray(your_data), return_counts=True)\n",
        "else:\n",
        "    # Use the deprecated version with the original input data\n",
        "    unique_values, counts = np.unique(your_data, return_counts=True)\n",
        "\n",
        "# Print the unique values and their counts\n",
        "print(\"Unique values:\", unique_values)\n",
        "print(\"Counts:\", counts)\n"
      ],
      "metadata": {
        "colab": {
          "base_uri": "https://localhost:8080/"
        },
        "id": "cvwClRi2J76o",
        "outputId": "1ade55e1-7544-4835-ef4d-4758ba6b51b1"
      },
      "execution_count": null,
      "outputs": [
        {
          "output_type": "stream",
          "name": "stdout",
          "text": [
            "a\n",
            "Unique values: ['apple' 'banana' 'orange']\n",
            "Counts: [2 2 1]\n"
          ]
        }
      ]
    }
  ]
}